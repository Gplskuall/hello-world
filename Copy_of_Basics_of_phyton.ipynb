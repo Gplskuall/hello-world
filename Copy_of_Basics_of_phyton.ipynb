{
  "nbformat": 4,
  "nbformat_minor": 0,
  "metadata": {
    "colab": {
      "provenance": [],
      "authorship_tag": "ABX9TyMB43T55fVZgND0ufP2zXu8",
      "include_colab_link": true
    },
    "kernelspec": {
      "name": "python3",
      "display_name": "Python 3"
    },
    "language_info": {
      "name": "python"
    }
  },
  "cells": [
    {
      "cell_type": "markdown",
      "metadata": {
        "id": "view-in-github",
        "colab_type": "text"
      },
      "source": [
        "<a href=\"https://colab.research.google.com/github/Gplskuall/hello-world/blob/master/Copy_of_Basics_of_phyton.ipynb\" target=\"_parent\"><img src=\"https://colab.research.google.com/assets/colab-badge.svg\" alt=\"Open In Colab\"/></a>"
      ]
    },
    {
      "cell_type": "code",
      "execution_count": null,
      "metadata": {
        "id": "z-8B7_wueVYq"
      },
      "outputs": [],
      "source": []
    },
    {
      "cell_type": "markdown",
      "source": [
        "### Phyton basics for astronomy"
      ],
      "metadata": {
        "id": "60rQNpwZe_EH"
      }
    },
    {
      "cell_type": "code",
      "source": [
        "print (\"Hello world!\")"
      ],
      "metadata": {
        "colab": {
          "base_uri": "https://localhost:8080/"
        },
        "id": "dcA_4_YIgTwL",
        "outputId": "815c2c9f-8880-4ae6-b60c-cdd7d13a59cb"
      },
      "execution_count": null,
      "outputs": [
        {
          "output_type": "stream",
          "name": "stdout",
          "text": [
            "Hello world!\n"
          ]
        }
      ]
    },
    {
      "cell_type": "markdown",
      "source": [
        "## 1. comments"
      ],
      "metadata": {
        "id": "qTTvMAjUiVmT"
      }
    },
    {
      "cell_type": "code",
      "source": [
        "# These are multi line strings, NOT comments\n",
        "\n",
        "\"\"\"\n",
        "this is my first line of comment\n",
        "this is my second line of comment\n",
        "\"\"\"\n",
        "print (\"test1\")\n"
      ],
      "metadata": {
        "colab": {
          "base_uri": "https://localhost:8080/"
        },
        "id": "kKMNpGFfO8tq",
        "outputId": "c4e57029-0c6c-4a06-d065-fd37bc9b4943"
      },
      "execution_count": null,
      "outputs": [
        {
          "output_type": "stream",
          "name": "stdout",
          "text": [
            "test1\n"
          ]
        }
      ]
    },
    {
      "cell_type": "code",
      "source": [
        "# To do this, select text, then command + /\n",
        "# this is my first line of comment\n",
        "# this is my second line of comment\n",
        "# jhfhghdfg\n",
        "print (\"testing, only this should print\")\n",
        "# hgdhgdhgf\n",
        "# hgdhg\n",
        "# hhg\n"
      ],
      "metadata": {
        "colab": {
          "base_uri": "https://localhost:8080/"
        },
        "id": "7TIvyxaHQRdL",
        "outputId": "6eae945b-321e-4e0e-a83b-b8066f0d28b6"
      },
      "execution_count": null,
      "outputs": [
        {
          "output_type": "stream",
          "name": "stdout",
          "text": [
            "testing, only this should print\n"
          ]
        }
      ]
    },
    {
      "cell_type": "markdown",
      "source": [
        "## 2. Variables and constants\n"
      ],
      "metadata": {
        "id": "H8dCJp98T6BO"
      }
    },
    {
      "cell_type": "code",
      "source": [
        "# Uppercase X or Y indicate Constant\n",
        "# lowercase x or y indicate variable\n",
        "\n",
        "X = 3\n",
        "y = 2\n",
        "x = 7\n",
        "print (y + X + y + X )\n",
        "\n",
        "y = 44\n",
        "print (y + X + y + X)"
      ],
      "metadata": {
        "colab": {
          "base_uri": "https://localhost:8080/"
        },
        "id": "n50eJeXxWqgM",
        "outputId": "f5a6263b-d902-4d0d-cc4b-8191ded15cf9"
      },
      "execution_count": null,
      "outputs": [
        {
          "output_type": "stream",
          "name": "stdout",
          "text": [
            "10\n",
            "94\n"
          ]
        }
      ]
    },
    {
      "cell_type": "markdown",
      "source": [
        "## 3. Data types\n"
      ],
      "metadata": {
        "id": "Bxj3JuuZd3QI"
      }
    },
    {
      "cell_type": "code",
      "source": [
        "# Create variables to store information about a planet in our solar system\n",
        "\n",
        "planet_name = 'Venus'\n",
        "planet_age = '4.6 Billion years'\n",
        "planet_index = 1\n",
        "# In python Index starts at 0, mercury is 0, venus is 1 and earth is 2"
      ],
      "metadata": {
        "id": "o_ieEAyQd_d3"
      },
      "execution_count": null,
      "outputs": []
    },
    {
      "cell_type": "code",
      "source": [
        "# Display data value for each variable\n",
        "\n",
        "print (planet_name)\n",
        "print (planet_age)\n",
        "print (planet_index)\n"
      ],
      "metadata": {
        "colab": {
          "base_uri": "https://localhost:8080/"
        },
        "id": "h3COn83NfBAv",
        "outputId": "10881fe9-db2f-4b88-8cf3-aa9b4d37555f"
      },
      "execution_count": null,
      "outputs": [
        {
          "output_type": "stream",
          "name": "stdout",
          "text": [
            "Venus\n",
            "4.6 Billion years\n",
            "1\n"
          ]
        }
      ]
    },
    {
      "cell_type": "code",
      "source": [
        "# Checking variable types\n",
        "\n",
        "print (type(planet_name))\n",
        "print (type(planet_age))\n",
        "print (type(planet_index))"
      ],
      "metadata": {
        "colab": {
          "base_uri": "https://localhost:8080/"
        },
        "id": "SsYrhR1MfmR8",
        "outputId": "5c525013-e844-4b3f-b0ae-5e59e48ff208"
      },
      "execution_count": null,
      "outputs": [
        {
          "output_type": "stream",
          "name": "stdout",
          "text": [
            "<class 'str'>\n",
            "<class 'str'>\n",
            "<class 'int'>\n"
          ]
        }
      ]
    },
    {
      "cell_type": "code",
      "source": [
        "z = 4.2\n",
        "print (z)\n",
        "print (type(z))"
      ],
      "metadata": {
        "colab": {
          "base_uri": "https://localhost:8080/"
        },
        "id": "ggsFGJgps7mo",
        "outputId": "d5243c6b-4a4a-4af7-e551-497aff2de88b"
      },
      "execution_count": null,
      "outputs": [
        {
          "output_type": "stream",
          "name": "stdout",
          "text": [
            "4.2\n",
            "<class 'float'>\n"
          ]
        }
      ]
    },
    {
      "cell_type": "markdown",
      "source": [
        "## 4. f-strings"
      ],
      "metadata": {
        "id": "kM3VzPvxtXrk"
      }
    },
    {
      "cell_type": "code",
      "source": [
        "# Learning the power of f-strings\n",
        "\n",
        "name_planet = 'Saturn'\n",
        "number_moons_planet = 146\n",
        "print (f'Planet {name_planet} has {number_moons_planet} moons')"
      ],
      "metadata": {
        "colab": {
          "base_uri": "https://localhost:8080/"
        },
        "id": "8oHraqVltnok",
        "outputId": "f6a3b7d2-1f7f-40ad-a8aa-a8bb794836fb"
      },
      "execution_count": null,
      "outputs": [
        {
          "output_type": "stream",
          "name": "stdout",
          "text": [
            "Planet Saturn has 146 moons\n"
          ]
        }
      ]
    },
    {
      "cell_type": "code",
      "source": [
        "# String concatenation\n",
        "\n",
        "str_1 = \"Earth is the only planet with life.\"\n",
        "str_2 = \"Maybe not!\"\n",
        "print (str_1 + ' ' + str_2)\n",
        "\n",
        "#or using f-strings:\n",
        "\n",
        "print (f'{str_1} {str_2}' )"
      ],
      "metadata": {
        "colab": {
          "base_uri": "https://localhost:8080/"
        },
        "id": "GKN99krfyGrz",
        "outputId": "f3b73251-98e5-49b6-8f52-0cbb37bb1168"
      },
      "execution_count": null,
      "outputs": [
        {
          "output_type": "stream",
          "name": "stdout",
          "text": [
            "Earth is the only planet with life. Maybe not!\n",
            "Earth is the only planet with life. Maybe not!\n"
          ]
        }
      ]
    },
    {
      "cell_type": "markdown",
      "source": [
        "## 5. User input"
      ],
      "metadata": {
        "id": "NXbZvnuY1EMV"
      }
    },
    {
      "cell_type": "code",
      "source": [
        "# Using Input () to take user inputs\n",
        "\n",
        "user_name = input ('Enter your name: ')\n",
        "user_last_name = input ('Enter your last name: ')\n",
        "user_fav_number = input ('Enter your favorite number: ')\n",
        "user_age = input ('Enter your age: ')\n",
        "print (user_name)\n",
        "print (type(user_name))\n",
        "print (user_last_name)\n",
        "print (type(user_last_name))\n",
        "print (user_fav_number)\n",
        "print (type(user_fav_number))\n",
        "print (user_age)\n",
        "print (type(user_age))"
      ],
      "metadata": {
        "colab": {
          "base_uri": "https://localhost:8080/"
        },
        "id": "o_24q6jJ1Nss",
        "outputId": "dfacbcc5-4c29-4804-ef86-a7005dadf7c5"
      },
      "execution_count": null,
      "outputs": [
        {
          "output_type": "stream",
          "name": "stdout",
          "text": [
            "Enter your name: G\n",
            "Enter your last name: p\n",
            "Enter your favorite number: 7\n",
            "Enter your age: 37.5\\\n",
            "G\n",
            "<class 'str'>\n",
            "p\n",
            "<class 'str'>\n",
            "7\n",
            "<class 'str'>\n",
            "37.5\\\n",
            "<class 'str'>\n"
          ]
        }
      ]
    },
    {
      "cell_type": "markdown",
      "source": [
        "## 6. Data type conversion"
      ],
      "metadata": {
        "id": "mnKu4MFC71qu"
      }
    },
    {
      "cell_type": "code",
      "source": [
        "# Convert string date into an integer and float\n",
        "\n",
        "str_to_int = int (user_fav_number)\n",
        "print (str_to_int)\n",
        "print (type(str_to_int))\n",
        "\n",
        "str_to_float = float (user_fav_number)\n",
        "print (str_to_float)\n",
        "print (type(str_to_float))\n",
        "print (str_to_int + 100 )\n",
        "print (str_to_float + 50.2)\n",
        "print (str_to_int + str_to_float)\n",
        "print (type (str_to_int + str_to_float))"
      ],
      "metadata": {
        "colab": {
          "base_uri": "https://localhost:8080/"
        },
        "id": "D8mX91iJ7-en",
        "outputId": "7d78d575-65e9-41cd-9418-d40822c0f07a"
      },
      "execution_count": null,
      "outputs": [
        {
          "output_type": "stream",
          "name": "stdout",
          "text": [
            "7\n",
            "<class 'int'>\n",
            "7.0\n",
            "<class 'float'>\n",
            "107\n",
            "57.2\n",
            "14.0\n",
            "<class 'float'>\n"
          ]
        }
      ]
    },
    {
      "cell_type": "code",
      "source": [
        "# Get user input of two integers and add them together\n",
        "\n",
        "n1 = int(input('Enter an integer: '))\n",
        "n2 = int(input('Enter another integer: '))\n",
        "print (f'The sum of {n1} and {n2} is {n1+n2} ')"
      ],
      "metadata": {
        "colab": {
          "base_uri": "https://localhost:8080/"
        },
        "id": "42qOzJStAUMB",
        "outputId": "8fb96fe2-83db-4bb2-ac5d-90c84d04459d"
      },
      "execution_count": null,
      "outputs": [
        {
          "output_type": "stream",
          "name": "stdout",
          "text": [
            "Enter an integer: 10\n",
            "Enter another integer: 4\n",
            "The sum of 10 and 4 is 14 \n"
          ]
        }
      ]
    }
  ]
}